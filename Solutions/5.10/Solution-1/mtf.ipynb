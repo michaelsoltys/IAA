{
 "cells": [
  {
   "cell_type": "markdown",
   "metadata": {
    "collapsed": true
   },
   "source": [
    "### Move to front competitive analysis"
   ]
  },
  {
   "cell_type": "markdown",
   "metadata": {},
   "source": [
    "#### Introduction to the Analysis of Algorithms (3rd ed)\n",
    "##### Michael Soltys\n",
    "\n",
    "##### Notebook by Ryan McIntyre"
   ]
  },
  {
   "cell_type": "markdown",
   "metadata": {},
   "source": [
    "We'll start by depicting MTF:"
   ]
  },
  {
   "cell_type": "code",
   "execution_count": 1,
   "metadata": {
    "collapsed": true
   },
   "outputs": [],
   "source": [
    "def MTF(cache,request):\n",
    "    L = [0 for i in range(cache_size)]\n",
    "    i = 0\n",
    "    found = False\n",
    "    while i < len(L):\n",
    "        if L[i] == request:\n",
    "            L = [request] + L[:i] + L[i+1:]\n",
    "            found = True\n",
    "            break\n",
    "        i += 1\n",
    "    if not found:\n",
    "        L = [request] + L[:-1]"
   ]
  },
  {
   "cell_type": "markdown",
   "metadata": {},
   "source": [
    "Of course, for our purposes it would be nice to have an \"offline\" version to compare to the optimal offline solution; we define below the offline MTF, with utilities for tracking cost; we also add the non-crucial simplification discussed in problem 5.7: It is assumed that all requested items are already in the cache."
   ]
  },
  {
   "cell_type": "code",
   "execution_count": 2,
   "metadata": {
    "collapsed": true
   },
   "outputs": [],
   "source": [
    "from copy import deepcopy as copy\n",
    "            \n",
    "def MTF_cost(initial_cache,requests):\n",
    "    L = copy(initial_cache)\n",
    "    cost = 0\n",
    "    for r in requests:\n",
    "        i = 0\n",
    "        while i < len(L):\n",
    "            if r == L[i]:\n",
    "                cost += i+1\n",
    "                L = [L[i]] + L[:i] + L[i+1:]\n",
    "                break\n",
    "            i += 1\n",
    "    return cost"
   ]
  },
  {
   "cell_type": "markdown",
   "metadata": {},
   "source": [
    "We need OPT... we'll make a brute-force method for finding OPT's cost using a uniform cost search, with the same simplification.\n",
    "Note that we don't bother to track which moves result in the optimum cost, as we're only using the cost itself for comparison."
   ]
  },
  {
   "cell_type": "code",
   "execution_count": 3,
   "metadata": {
    "collapsed": false
   },
   "outputs": [],
   "source": [
    "def OPT_cost(initial_cache,requests):\n",
    "    cost = dict()\n",
    "    requests = copy(requests)\n",
    "    initial_cache = copy(initial_cache)\n",
    "    k = len(initial_cache)\n",
    "    \n",
    "    cost[str((initial_cache,requests))] = 0\n",
    "    expanded = set()\n",
    "    frontier = [(initial_cache,requests)]\n",
    "    while True:\n",
    "        frontier.sort(key = lambda x : cost[str(x)], reverse=True)\n",
    "        exp = frontier.pop()\n",
    "        expanded.add(str(exp))\n",
    "        if exp[1] == []:\n",
    "            return cost[str(exp)]\n",
    "        else:\n",
    "            moves = [('transpose',i) for i in range(k-1)]\n",
    "            i = exp[0].index(exp[1][0])\n",
    "            moves += [('access',i,j) for j in range(i+1)]\n",
    "            for move in moves:\n",
    "                if move[0] == 'transpose':\n",
    "                    ca = exp[0]\n",
    "                    i = move[1]\n",
    "                    ca = ca[:i] + [ca[i+1],ca[i]] + ca[i+2:]\n",
    "                    new = (ca,exp[1])\n",
    "                    if not str(new) in expanded:\n",
    "                        if str(new) in cost:\n",
    "                            if cost[str(exp)] + 1 < cost[str(new)]:\n",
    "                                cost[str(new)] = cost[str(exp)] + 1\n",
    "                        else:\n",
    "                            cost[str(new)] = cost[str(exp)] + 1\n",
    "                            frontier.append(new)\n",
    "                elif move[0] =='access':\n",
    "                    i = move[1]\n",
    "                    j = move[2]\n",
    "                    ca = exp[0]\n",
    "                    ca = ca[:j] + [ca[i]] + ca[j:i] + ca[i+1:]\n",
    "                    new = (ca,exp[1][1:])\n",
    "                    if not str(new) in expanded:\n",
    "                        if str(new) in cost:\n",
    "                            if cost[str(exp)] + i+1 < cost[str(new)]:\n",
    "                                cost[str(new)] = cost[str(exp)] + i+1\n",
    "                        else:\n",
    "                            cost[str(new)] = cost[str(exp)] + i+1\n",
    "                            frontier.append(new)"
   ]
  },
  {
   "cell_type": "markdown",
   "metadata": {},
   "source": [
    "Next we define a simple test case (for which MTF should be optimal):"
   ]
  },
  {
   "cell_type": "code",
   "execution_count": 4,
   "metadata": {
    "collapsed": false
   },
   "outputs": [
    {
     "name": "stdout",
     "output_type": "stream",
     "text": [
      "OPT cost: 13\n",
      "MTF cost: 13\n"
     ]
    }
   ],
   "source": [
    "in_cache = [1,2,3]\n",
    "requests = [3,3,3,2,2,2,1]\n",
    "print('OPT cost:',OPT_cost(in_cache,requests))\n",
    "print('MTF cost:',MTF_cost(in_cache,requests))"
   ]
  },
  {
   "cell_type": "markdown",
   "metadata": {
    "collapsed": false
   },
   "source": [
    "Finally we're ready to run our experiment. For each cache size for which the brute-force solution runs quickly (which is an unsurprisingly small range) generate 100 sample request lists of length $2\\times \\text{cache_size}$ from a uniform distribution of elements in the starting cache. We then find the average $\\frac{\\text{cost}}{\\text{request}}$ over all of the samples for OPT and MTF."
   ]
  },
  {
   "cell_type": "code",
   "execution_count": 13,
   "metadata": {
    "collapsed": false
   },
   "outputs": [],
   "source": [
    "from random import randint\n",
    "OPT_uniform = dict()\n",
    "MTF_uniform = dict()\n",
    "max_cache = 6\n",
    "sample_size = 100\n",
    "for k in range(2,max_cache+1):\n",
    "    sample_length = 2*k\n",
    "    in_cache = [i for i in range(k)]\n",
    "    requests = [[randint(0,k-1) for j in range(sample_length)] for i in range(sample_size)]\n",
    "    OPT_uniform[k] = round(sum([OPT_cost(in_cache,request) for request in requests])/(sample_length*sample_size),3)\n",
    "    MTF_uniform[k] = round(sum([MTF_cost(in_cache,request) for request in requests])/(sample_length*sample_size),3) "
   ]
  },
  {
   "cell_type": "code",
   "execution_count": 16,
   "metadata": {
    "collapsed": false
   },
   "outputs": [
    {
     "data": {
      "image/png": "[encoded data removed]",
      "text/plain": [
       "<matplotlib.figure.Figure at 0x26c684b58d0>"
      ]
     },
     "metadata": {},
     "output_type": "display_data"
    }
   ],
   "source": [
    "import matplotlib.pyplot as plt\n",
    "%matplotlib inline\n",
    "\n",
    "fig = plt.figure()\n",
    "ax = fig.add_subplot(111)\n",
    "X = [i for i in range(2,max_cache+1)]\n",
    "ax.plot(X,[MTF_uniform[x] for x in X],'ro',label='MTF')\n",
    "ax.plot(X,[OPT_uniform[x] for x in X],'bo',label='OPT')\n",
    "ax.set_ylim((0,ax.get_ylim()[1]+1))\n",
    "ax.set_xticks(X)\n",
    "ax.set_xlabel('Cache size')\n",
    "ax.set_ylabel('Average cost per request')\n",
    "fig.suptitle('MTF vs OPT')\n",
    "ax.legend()\n",
    "plt.show()"
   ]
  },
  {
   "cell_type": "markdown",
   "metadata": {
    "collapsed": true
   },
   "source": [
    "We see that, in the sample space we're able to explore, under a uniform distribution, MTF isn't far behind the optimal solution. Moreover, MTF should peform better on non-uniform distributions, as the \"more frequent\" pages will be more likely to be nearer the front of the cache."
   ]
  },
  {
   "cell_type": "code",
   "execution_count": null,
   "metadata": {
    "collapsed": true
   },
   "outputs": [],
   "source": []
  }
 ],
 "metadata": {
  "kernelspec": {
   "display_name": "Python [Root]",
   "language": "python",
   "name": "Python [Root]"
  },
  "language_info": {
   "codemirror_mode": {
    "name": "ipython",
    "version": 3
   },
   "file_extension": ".py",
   "mimetype": "text/x-python",
   "name": "python",
   "nbconvert_exporter": "python",
   "pygments_lexer": "ipython3",
   "version": "3.5.2"
  }
 },
 "nbformat": 4,
 "nbformat_minor": 0
}
