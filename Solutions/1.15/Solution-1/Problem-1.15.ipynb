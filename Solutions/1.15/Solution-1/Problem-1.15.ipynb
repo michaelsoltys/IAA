{
 "cells": [
  {
   "cell_type": "markdown",
   "metadata": {},
   "source": [
    "### Problem 1.15 - Algorithm 1.5"
   ]
  },
  {
   "cell_type": "markdown",
   "metadata": {},
   "source": [
    "#### Introduction to the Analysis of Algorithms (3rd ed)\n",
    "##### Michael Soltys\n",
    "\n",
    "##### Notebook by Ryan McIntyre"
   ]
  },
  {
   "cell_type": "markdown",
   "metadata": {},
   "source": [
    "We have two goals:\n",
    "<ol>\n",
    "    <li> Determine what algorithm 1.5 computes </li>\n",
    "    <li> Determine the conditions on the input for which algorithm 1.5 terminates (given that inputs are positive integers).</li>\n",
    "</ol>\n",
    "\n",
    "The algorithm, which is intended for positive integer inputs $x$ and $y$, is below."
   ]
  },
  {
   "cell_type": "code",
   "execution_count": 1,
   "metadata": {
    "collapsed": false
   },
   "outputs": [],
   "source": [
    "def alg(x,y):\n",
    "    a = x\n",
    "    b = y\n",
    "    while a > 0:\n",
    "        if a < b:\n",
    "            h = a\n",
    "            a += h\n",
    "            b -= h\n",
    "        else:\n",
    "            h = b\n",
    "            b += h\n",
    "            a -= h\n",
    "    return(a,b)"
   ]
  },
  {
   "cell_type": "markdown",
   "metadata": {},
   "source": [
    "There is a straightforward loop invariant: $a+b=x+y$. For the basis case, clearly this is true before the first iteration, as $a=x$ and $b=y$. So we need only show that $a_{i+1}+b_{i+1}=a_i+b_i$. First, consider the case where $a_i<b_i$. Then $a_{i+1}+b_{i+1}=(2a_i)+(b_i-a_i)=a_i+b_i$. Otherwise, $a_i\\ge b_i$, so $a_{i+1}+b_{i+1}=(a_i-b_i)+(2b_i)=a_i+b_i$. So transitivity guarantees that this loop invariant holds.\n",
    "\n",
    "There is also a second loop invariant, which may be useful: $a\\ge0$. This is obviously true in the basis case, as $x>0$. Assume $a_i\\ge0$. If $a_i<b_i$, then $a_{i+1}=2a_i>0$. Otherwise, $a_i\\ge b_i$, so $a_{i+1}=a_i-b_i\\ge a_i-a_i=0$. In either case, the invariant holds inductively. Note that a nearly identical proof shows that $b>0$ is an invariant as well.\n",
    "\n",
    "The second invariant provides insight pertaining to termination. The loop continues \"while $a>0$\"; we know that $a$ cannot be negative. Therefore, it only terminates when $a=0$. Moreover, given the first loop invariant ($a+b=x+y$), we now know that whenever the algorithm terminates, $0+b=x+y$. In other words, $b$ is the sum of $x$ and $y$. This provides motivation for an updated algorithm, as well. We know that if there is an output, the output value of $a$ will be 0, so why return it at all?"
   ]
  },
  {
   "cell_type": "code",
   "execution_count": 2,
   "metadata": {
    "collapsed": true
   },
   "outputs": [],
   "source": [
    "def alg(x,y):\n",
    "    a = x\n",
    "    b = y\n",
    "    while a > 0:\n",
    "        if a < b:\n",
    "            h = a\n",
    "            a += h\n",
    "            b -= h\n",
    "        else:\n",
    "            h = b\n",
    "            b += h\n",
    "            a -= h\n",
    "    return b"
   ]
  },
  {
   "cell_type": "markdown",
   "metadata": {},
   "source": [
    "We've answered the first question: What does algorithm 1.5 compute? The sum of its inputs.\n",
    "Now we move on to question two: for what positive integer inputs $x$ and $y$ does the algorithm terminate?\n",
    "\n",
    "We could go about this analytically, by working backward from the $a=0$ termination condition to generate a set of \"good\" inputs. Instead, we're going to go about the problem experimentally; we'll simply run the algorithm on a variety of inputs and form conjectures about which inputs lead to termination. This, of course, requires a modified version of the algorithm. This new version has the following changes:\n",
    "<ul>\n",
    "<li> An iteration counter, $i$, has been added, and $i<iter\\_limit$ has been added to the \"while\" conditions (with $iter\\_limit$ set to 1000). If the limit is reached prior to termination, the algorithm will stop short. This means that if we give an input which terminates, but after more than 1000 iterations, we'll never know that it terminates.</li>\n",
    "<li> The list $visited$ has been added. It tracks which pairs $(a,b)$ have already been seen. When a pair is reapeated, the algorithm terminates (as it's found a cycle, proving that it would never terminate).</li>\n",
    "<li> Print statements have been added to display the results of each test input. </li>\n",
    "<ul>"
   ]
  },
  {
   "cell_type": "code",
   "execution_count": 3,
   "metadata": {
    "collapsed": true
   },
   "outputs": [],
   "source": [
    "def alg_exp(x,y):\n",
    "    a = x\n",
    "    b = y\n",
    "    i = 0\n",
    "    iter_limit = 1000\n",
    "    visited = [(a,b)]\n",
    "    while a > 0:\n",
    "        if a < b:\n",
    "            h = a\n",
    "            a += h\n",
    "            b -= h\n",
    "        else:\n",
    "            h = b\n",
    "            b += h\n",
    "            a -= h\n",
    "        if (a,b) in visited:\n",
    "            print((x,y),': No Termination - Cycle')\n",
    "            return None\n",
    "        visited.append((a,b))\n",
    "        i += 1\n",
    "    if i==iter_limit and a!=0:\n",
    "        print((x,y),': No Termination - Iteration Limit Reached')\n",
    "        return None\n",
    "    print((x,y),':',b)\n",
    "    return b"
   ]
  },
  {
   "cell_type": "markdown",
   "metadata": {},
   "source": [
    "Finally we'll use this new tool to try to gain some insight."
   ]
  },
  {
   "cell_type": "code",
   "execution_count": 4,
   "metadata": {
    "collapsed": false
   },
   "outputs": [
    {
     "name": "stdout",
     "output_type": "stream",
     "text": [
      "(1, 1) : 2\n",
      "(1, 2) : No Termination - Cycle\n",
      "(1, 3) : 4\n",
      "(1, 4) : No Termination - Cycle\n",
      "(1, 5) : No Termination - Cycle\n",
      "(1, 6) : No Termination - Cycle\n",
      "(1, 7) : 8\n",
      "(2, 1) : No Termination - Cycle\n",
      "(2, 2) : 4\n",
      "(2, 3) : No Termination - Cycle\n",
      "(2, 4) : No Termination - Cycle\n",
      "(2, 5) : No Termination - Cycle\n",
      "(2, 6) : 8\n",
      "(2, 7) : No Termination - Cycle\n",
      "(3, 1) : 4\n",
      "(3, 2) : No Termination - Cycle\n",
      "(3, 3) : 6\n",
      "(3, 4) : No Termination - Cycle\n",
      "(3, 5) : 8\n",
      "(3, 6) : No Termination - Cycle\n",
      "(3, 7) : No Termination - Cycle\n",
      "(4, 1) : No Termination - Cycle\n",
      "(4, 2) : No Termination - Cycle\n",
      "(4, 3) : No Termination - Cycle\n",
      "(4, 4) : 8\n",
      "(4, 5) : No Termination - Cycle\n",
      "(4, 6) : No Termination - Cycle\n",
      "(4, 7) : No Termination - Cycle\n",
      "(5, 1) : No Termination - Cycle\n",
      "(5, 2) : No Termination - Cycle\n",
      "(5, 3) : 8\n",
      "(5, 4) : No Termination - Cycle\n",
      "(5, 5) : 10\n",
      "(5, 6) : No Termination - Cycle\n",
      "(5, 7) : No Termination - Cycle\n",
      "(6, 1) : No Termination - Cycle\n",
      "(6, 2) : 8\n",
      "(6, 3) : No Termination - Cycle\n",
      "(6, 4) : No Termination - Cycle\n",
      "(6, 5) : No Termination - Cycle\n",
      "(6, 6) : 12\n",
      "(6, 7) : No Termination - Cycle\n",
      "(7, 1) : 8\n",
      "(7, 2) : No Termination - Cycle\n",
      "(7, 3) : No Termination - Cycle\n",
      "(7, 4) : No Termination - Cycle\n",
      "(7, 5) : No Termination - Cycle\n",
      "(7, 6) : No Termination - Cycle\n",
      "(7, 7) : 14\n"
     ]
    }
   ],
   "source": [
    "inputs = [(x,y) for x in range(1,8) for y in range(1,8)]\n",
    "for pair in inputs:\n",
    "    alg_exp(pair[0],pair[1])"
   ]
  },
  {
   "cell_type": "markdown",
   "metadata": {},
   "source": [
    "Immediately, we can make some observations. First, the iteration limit was never reached here; every input that didn't terminate revealed a cycle, so these are actually inputs that never terminate. Second, and more importantly, every output is even. Let's try to prove that this is true in general, and not just in this particular sample of inputs.\n",
    "\n",
    "We already know that $a=0$ when the algorithm terminates, and that $a\\ge0$ always. Moreover, because the algorithm will necessarily terminate when $a=0$, we know that $a>0$ before the last iteration.\n",
    "\n",
    "We also introduce yet another loop invariant: $a$ and $b$ are both mutiples of $g=\\gcd(x,y)$ (the greatest common divisor of $x$ and $y$). The basis case is straightforward; $g$ divides both $x$ and $y$ evenly by definition, and prior to the first iteration $a=x$ and $b=y$, so obviously $g$ divides $a_0$ and $b_0$. Assume that $g$ divides $a_i$ and $b_i$. Then, clearly, $g$ also divides all of the following: $2a_i$, $2b_i$, $a_i-b_i$, and $b_i-a_i$. We've shown the basis case and induction of this invariant, so it holds. It should also be noted that for any two positive integers $x$ and $y$, $\\gcd(x,y)$ is also a positive integer by definition, so  we've guaranteed that $a$ and $b$ remain positive integers.\n",
    "\n",
    "Assume $a_i=0$; that is, the algorithm terminates after $i$ iterations. Then $a_{i-1}>0$. Moreover, $a_{i-1}=b_{i-1}$; if $a_{i-1}>b_{i-1}$ then \n",
    "$a_i=a_{i-1}-b_{i-1}>0$, and if $a_{i-1}<b_{i-1}$ then $a_i=2a_{i-1}>0$. So we know $a_{i-1}=b_{i-1}$, and our last loop invariant provides that $a_{i-1}$and $b_{i-1}$ are both positive integers, granting that $b_i=2b_{i-1}$ is an even number.\n",
    "\n",
    "We've shown that the output, if it exists, must be even. But there are many inputs above (such as $(5,1)$) which have an even sum but do not terminate, so obviously an even sum does not guarantee termination. Let's find out why.\n",
    "\n",
    "Just prior to termination, we must necessarily reach a state where $a=b$. Note that if $a=b$, then $\\gcd(a,b)=a$, so $\\frac{a+b}{\\gcd(a,b)}=2$. We aim to show that the algorithm terminates if and only if $\\frac{x+y}{\\gcd(x,y)}$ is a power of 2. Obviously, $a$ and $b$ meet the conditions we wish to impose on $x$ and $y$ just prior to termination. Therefore, it is enough to show simply that $\\frac{a+b}{\\gcd(a,b)}$ is a power of 2 if and only if $\\frac{a'+b'}{\\gcd(a',b')}$ is a power of 2 (where $a'$ and $b'$ are the values in the iteration following $a$ and $b$).\n",
    "\n",
    "Let $g=\\gcd(a,b)$, and let $g'=\\gcd(a',b')$. Then there are positive integers $s$ and $t$ such that $sg=a$, $tg=b$, and $\\gcd(s,t)=1$ (and identically defined $s'$ and $t'$). \n",
    "\n",
    "Assume $\\frac{a+b}{g}$ is a power of 2. We can assume that $a\\neq b$; this case is handled by the last iteration of the algorithm. Moreover, we can assume without loss of generality that $a<b$. Thus, $a'=2a$ and $b'=b-a$. As such, $g'=\\gcd(2a,b-a)=\\gcd(2sg,g(t-s))=g\\gcd(2s,t-s)$. Let $h=\\gcd(2s,t-s)$. By definition, $h\\ge1$. If $h=1$, we're done; $g'=g$ and $a'+b'=a+b$, so $\\frac{a+b}{g}$ did not change and is still a power of 2. So assume $h>1$. $h$ divides $t-s$ by definition. So if $h$ divides $s$, then $g$ also divides $t$ (since $t=(t-s)+s$) so $\\gcd(s,t)\\ge h$, a contradiction; we know $h$ cannot divide $s$. So $h$ divides $2s$ without dividing $s$, which implies that $h$ must be even. Given that $h$ is even and $h$ divides $2s$, we know that $\\frac{h}{2}$ divides $s$. Obviously $\\frac{h}{2}$ divides $t-s$, as $h$ divides $t-s$. Therefore, $\\frac{h}{2}$ also divides $t$. $\\frac{h}{2}$ is a common factor of $s$ and $t$, so $\\frac{h}{2}\\le\\gcd(s,t)=1$. In other words, $h\\le2$. We already knew that $h$ is an even number $>1$, so $h$ must be 2. $g'=2g$, so if $\\frac{a+b}{g}=2^n$, then $\\frac{a'+b'}{g'}=2^{n-1}$. Moreover, since $a\\neq b$ (and since $a\\neq0\\neq b$), $g<\\frac{a+b}{2}$, so $\\frac{a+b}{g}>2$; this, combined with our assumption that it is a power of 2, grants that $\\frac{a+b}{g}=2^n$ for some integer $n>1$. Thus, $\\frac{a'+b'}{g'}=2^{n-1}$ is a power of 2. \n",
    "\n",
    "Assume that $\\frac{a+b}{g}$ is not a power of 2. We showed, in the previous paragraph, that $\\frac{a'+b'}{g'}$ is either $\\frac{a+b}{g}$ or $\\frac{a+b}{2g}$. So, since $\\frac{a+b}{g}$ has prime factors other than 2, which are not divided out in the transition to $\\frac{a+b}{2g}$, the latter is not a power of 2 either.\n",
    "\n",
    "We have shown that $\\frac{a_i+b_i}{\\gcd(a_i,b_i)}$ is a power of 2 if and only if $\\frac{x+y}{\\gcd(x,y)}$ is a power of 2, and that $\\frac{a_{i-1}+b_{i-1}}{\\gcd(a_{i-1},b_{i-1})}$ must equal 2 if the algorithm terminates on iteration $i$. Therefore, the algorithm does not terminate given positive integer inputs $x$ and $y$ such that $\\frac{x+y}{\\gcd(x,y)}$ is not a power of 2.\n",
    "\n",
    "We leave it to the reader to show that the algorithm does terminate in the case where $\\frac{x+y}{gcd(x,y)}$ is a power of 2."
   ]
  }
 ],
 "metadata": {
  "kernelspec": {
   "display_name": "Python [Root]",
   "language": "python",
   "name": "Python [Root]"
  },
  "language_info": {
   "codemirror_mode": {
    "name": "ipython",
    "version": 3
   },
   "file_extension": ".py",
   "mimetype": "text/x-python",
   "name": "python",
   "nbconvert_exporter": "python",
   "pygments_lexer": "ipython3",
   "version": "3.5.2"
  }
 },
 "nbformat": 4,
 "nbformat_minor": 0
}
