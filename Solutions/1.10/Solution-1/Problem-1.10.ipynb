{
 "cells": [
  {
   "cell_type": "markdown",
   "metadata": {},
   "source": [
    "### The Extened Euclid's Algorithm Complexity"
   ]
  },
  {
   "cell_type": "markdown",
   "metadata": {},
   "source": [
    "#### Introduction to the Analysis of Algorithms (3rd ed)\n",
    "##### Michael Soltys\n",
    "\n",
    "##### Notebook by Ryan McIntyre"
   ]
  },
  {
   "cell_type": "markdown",
   "metadata": {},
   "source": [
    "We start by defining the algorithm itself:"
   ]
  },
  {
   "cell_type": "code",
   "execution_count": 1,
   "metadata": {
    "collapsed": true
   },
   "outputs": [],
   "source": [
    "def ext_euc(m,n):\n",
    "    \n",
    "    #check pre-conditions\n",
    "    if m<=0 or n<=0 or m!=int(m) or n!=int(n):\n",
    "        raise ValueError(\"Invalid inputs for Euclid's.\")\n",
    "    \n",
    "    #algorithm\n",
    "    c = m\n",
    "    d = n\n",
    "    a = 0\n",
    "    x = 1\n",
    "    b = 1\n",
    "    y = 0\n",
    "    while(True):\n",
    "        q = int(c/d) #rounds down\n",
    "        r = c%d\n",
    "        if r == 0:\n",
    "            return (a,b)            \n",
    "        c = d\n",
    "        d = r\n",
    "        h = x\n",
    "        x = a\n",
    "        a = h - q * a\n",
    "        h = y\n",
    "        y = b\n",
    "        b = h - q * b"
   ]
  },
  {
   "cell_type": "markdown",
   "metadata": {},
   "source": [
    "Our intention, however, is not to find $a$ and $b$, but to evaluate the complexity of the algorithm. First, we'll see how the number of \"steps\" correlates with the size of the input. This requires a modified version of the algorithm, with 2 changes:\n",
    "<ul>\n",
    "<li> The $steps$ variable has been added. </li>\n",
    "<li> The return has been changed to $steps$; we don't care about $a$ and $b$, only the complexity. </li>\n",
    "</ul>"
   ]
  },
  {
   "cell_type": "code",
   "execution_count": 2,
   "metadata": {
    "collapsed": true
   },
   "outputs": [],
   "source": [
    "def ext_euc_step_count(m,n):\n",
    "    \n",
    "    steps = 4 #4 checks above\n",
    "    if m<=0 or n<=0 or m!=int(m) or n!=int(n):\n",
    "        raise ValueError(\"Invalid inputs for Euclid's.\")\n",
    "        \n",
    "    c = m\n",
    "    d = n\n",
    "    a = 0\n",
    "    x = 1\n",
    "    b = 1\n",
    "    y = 0\n",
    "    steps += 6 #6 assignments above\n",
    "    while(True):\n",
    "        q = int(c/d) \n",
    "        r = c%d\n",
    "        steps += 4 #2 assignments above, r==0 check below, 1 divsion (treating c%d as a by-product of the division)\n",
    "        if r == 0:\n",
    "            return steps            \n",
    "        c = d\n",
    "        d = r\n",
    "        h = x\n",
    "        x = a\n",
    "        a = h - q * a\n",
    "        h = y\n",
    "        y = b\n",
    "        b = h - q * b\n",
    "        steps += 12 #8 assignments, 2 multiplications, 2 subtractions above"
   ]
  },
  {
   "cell_type": "markdown",
   "metadata": {},
   "source": [
    "Now that we've developed the necessary tools, we can gather some data:"
   ]
  },
  {
   "cell_type": "code",
   "execution_count": 3,
   "metadata": {
    "collapsed": true
   },
   "outputs": [],
   "source": [
    "from random import randint\n",
    "\n",
    "data = dict()\n",
    "size = 1\n",
    "sample_size = 1000\n",
    "while size < 50:\n",
    "    sample = 0\n",
    "    sample_total = 0\n",
    "    while sample < sample_size:\n",
    "        m = randint(2**(size-1),(2**size)-1)\n",
    "        n = randint(1,m)\n",
    "        sample_total += ext_euc_step_count(m,n)\n",
    "        sample += 1\n",
    "    data[size] = sample_total/sample_size\n",
    "    size += 1"
   ]
  },
  {
   "cell_type": "markdown",
   "metadata": {},
   "source": [
    "Finally, we can plot what we've found:"
   ]
  },
  {
   "cell_type": "code",
   "execution_count": 4,
   "metadata": {
    "collapsed": true
   },
   "outputs": [],
   "source": [
    "import matplotlib.pyplot as plt\n",
    "%matplotlib inline"
   ]
  },
  {
   "cell_type": "code",
   "execution_count": 5,
   "metadata": {
    "collapsed": false
   },
   "outputs": [
    {
     "data": {
      "image/png": "[encoded data removed]",
      "text/plain": [
       "<matplotlib.figure.Figure at 0x27c3a214e48>"
      ]
     },
     "metadata": {},
     "output_type": "display_data"
    }
   ],
   "source": [
    "#organize data\n",
    "X = list(data)\n",
    "Y = [data[x] for x in X]\n",
    "\n",
    "#setup figure\n",
    "fig = plt.figure()\n",
    "ax = fig.add_subplot(111)\n",
    "ax.set_xlabel('size of larger input')\n",
    "ax.set_ylabel('number of steps')\n",
    "fig.suptitle('Complexity of Extended Euclid\\'s')\n",
    "\n",
    "#plot data\n",
    "ax.plot(X,Y,'o')\n",
    "\n",
    "plt.show()"
   ]
  },
  {
   "cell_type": "markdown",
   "metadata": {},
   "source": [
    "We can see that the number of steps scales linearly with the size of the larger input. Of course, as the \"size\" is the length of the binary encoding, this means that the number of steps actually scales logarithmically with the larger input.\n",
    "\n",
    "Of course, in this implementation, we've \"skipped\" the division, as the complexity of the division algorithm used impacts the complexity of Euclid's. Below, we have a revised version, with one change: We've calculate $r$ and $q$ manually, using the division algorithm provided in Algorithm 1.1, and updated the additions to $steps$ to match."
   ]
  },
  {
   "cell_type": "code",
   "execution_count": 6,
   "metadata": {
    "collapsed": true
   },
   "outputs": [],
   "source": [
    "def ext_euc_step_count_with_division(m,n):\n",
    "    \n",
    "    if m<=0 or n<=0 or m!=int(m) or n!=int(n):\n",
    "        raise ValueError(\"Invalid inputs for Euclid's.\")\n",
    "    steps = 4 #4 checks above\n",
    "    \n",
    "    c = m\n",
    "    d = n\n",
    "    a = 0\n",
    "    x = 1\n",
    "    b = 1\n",
    "    y = 0\n",
    "    steps += 6 #6 assignments before loop\n",
    "    while(True):\n",
    "        q = 0\n",
    "        r = c\n",
    "        steps += 4 #2 assignments above, first d<=r and r==0 check below\n",
    "        while d <= r:\n",
    "            r -= d\n",
    "            q += 1\n",
    "            steps += 3 #2 assignments, next d<=r check\n",
    "        if r == 0:\n",
    "            return steps #we only care how many steps were made, in the end\n",
    "        c = d\n",
    "        d = r\n",
    "        h = x\n",
    "        x = a\n",
    "        a = h - q * a\n",
    "        h = y\n",
    "        y = b\n",
    "        b = h - q * b\n",
    "        steps += 12 #8 assignments, 2 multiplications, 2 subtractions"
   ]
  },
  {
   "cell_type": "markdown",
   "metadata": {},
   "source": [
    "Let's gather some data with our new model..."
   ]
  },
  {
   "cell_type": "code",
   "execution_count": 7,
   "metadata": {
    "collapsed": false
   },
   "outputs": [],
   "source": [
    "data2 = dict()\n",
    "size = 1\n",
    "sample_size = 1000\n",
    "while size < 50:\n",
    "    sample = 0\n",
    "    sample_total = 0\n",
    "    while sample < sample_size:\n",
    "        m = randint(2**(size-1),(2**size)-1)\n",
    "        n = randint(1,m)\n",
    "        sample_total += ext_euc_step_count_with_division(m,n)\n",
    "        sample += 1\n",
    "    data2[size] = sample_total/sample_size\n",
    "    size += 1"
   ]
  },
  {
   "cell_type": "markdown",
   "metadata": {},
   "source": [
    "and plot it..."
   ]
  },
  {
   "cell_type": "code",
   "execution_count": 8,
   "metadata": {
    "collapsed": false
   },
   "outputs": [
    {
     "data": {
      "image/png": "[encoded data removed]",
      "text/plain": [
       "<matplotlib.figure.Figure at 0x27c3a24f780>"
      ]
     },
     "metadata": {},
     "output_type": "display_data"
    }
   ],
   "source": [
    "#organize data\n",
    "X = list(data2)\n",
    "Y = [data2[x] for x in X]\n",
    "\n",
    "#setup figure\n",
    "fig = plt.figure()\n",
    "ax = fig.add_subplot(111)\n",
    "ax.set_xlabel('size of larger input')\n",
    "ax.set_ylabel('number of steps')\n",
    "fig.suptitle('Complexity of Extended Euclid\\'s')\n",
    "\n",
    "#plot data\n",
    "ax.plot(X,Y,'o')\n",
    "\n",
    "plt.show()"
   ]
  },
  {
   "cell_type": "markdown",
   "metadata": {},
   "source": [
    "Note that rerunning the data-gathering portion of this procedure will greatly effect the results. You can also adjust the maximum of the larger input, as well as the sample size, above. We've saved the result with $size<50$ and $sample\\_size=10^6$:"
   ]
  },
  {
   "cell_type": "markdown",
   "metadata": {},
   "source": [
    "![title](results_steps_with_division.png)"
   ]
  },
  {
   "cell_type": "markdown",
   "metadata": {},
   "source": [
    "Even at $10^6$, the sample size isn't large enough to remove noise. More importantly, however, the data appears to be slightly concave up. Let's explore why. It appears that Euclid's algorithm's iteration count is $O(l)$, where $l$ is the length of the larger inputs binary encoding, or identically $O(\\log(n))$, where $n$ is the larger input (and this could be proven, without too much difficulty). But nesting the division algorithm in each iteration causes this complexity to be multiplied by the complexity of the chosen division algorithm. Our chosen division method, Algorithm 1.1, is $O(n)$ (identically $O(2^l)$), so the resulting composite algorithm is $O(n\\log(n))$ or $O(l2^l)$. So the concavity is explained: the graph above is approximately exponential, with some noise. This model could be improved further by accounting for the relative complexities of every operation involved (as we have for division)."
   ]
  }
 ],
 "metadata": {
  "anaconda-cloud": {},
  "kernelspec": {
   "display_name": "Python [Root]",
   "language": "python",
   "name": "Python [Root]"
  },
  "language_info": {
   "codemirror_mode": {
    "name": "ipython",
    "version": 3
   },
   "file_extension": ".py",
   "mimetype": "text/x-python",
   "name": "python",
   "nbconvert_exporter": "python",
   "pygments_lexer": "ipython3",
   "version": "3.5.2"
  }
 },
 "nbformat": 4,
 "nbformat_minor": 0
}
